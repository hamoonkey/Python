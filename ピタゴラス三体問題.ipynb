{
 "cells": [
  {
   "cell_type": "markdown",
   "metadata": {},
   "source": [
    "2020/10/24\n",
    "30秒くらいまで。ぜんぜんだめだ。これを数値解析の目標にして勉強しよう"
   ]
  },
  {
   "cell_type": "markdown",
   "metadata": {},
   "source": [
    "問題設定は(http://articles.adsabs.harvard.edu/cgi-bin/nph-iarticle_query?1967AJ.....72..876S&amp;data_type=PDF_HIGH&amp;whole_paper=YES&amp;type=PRINTER&amp;filetype=.pdf)"
   ]
  },
  {
   "cell_type": "code",
   "execution_count": 1,
   "metadata": {},
   "outputs": [],
   "source": [
    "import sympy as sy\n",
    "import sympy.physics.mechanics as me"
   ]
  },
  {
   "cell_type": "code",
   "execution_count": 13,
   "metadata": {},
   "outputs": [],
   "source": [
    "# イレギュラーだけど、論文に倣って、名前は3,4,5にする\n",
    "N = me.ReferenceFrame('N')\n",
    "\n",
    "Po3 = me.Point(\"Po3\")\n",
    "m3 = sy.Symbol(\"m3\")\n",
    "Pa3 = me.Particle(\"Pa3\", Po3, m3)\n",
    "\n",
    "Po4 = me.Point(\"Po4\")\n",
    "m4 = sy.Symbol(\"m4\")\n",
    "Pa4 = me.Particle(\"Pa4\", Po4, m4)\n",
    "\n",
    "Po5 = me.Point(\"Po5\")\n",
    "m5 = sy.Symbol(\"m5\")\n",
    "Pa5 = me.Particle(\"Pa5\", Po5, m5)\n",
    "\n",
    "t = sy.Symbol('t')\n",
    "x3, y3 = me.dynamicsymbols(\"x3 y3\")\n",
    "vx3 = sy.diff(x3, t)\n",
    "vy3 = sy.diff(y3, t)\n",
    "Po3.set_vel(N, vx3*N.x+vy3*N.y)\n",
    "\n",
    "x4, y4 = me.dynamicsymbols(\"x4 y4\")\n",
    "vx4 = sy.diff(x4, t)\n",
    "vy4 = sy.diff(y4, t)\n",
    "Po4.set_vel(N, vx4*N.x+vy4*N.y)\n",
    "\n",
    "x5, y5 = me.dynamicsymbols(\"x5 y5\")\n",
    "vx5 = sy.diff(x5, t)\n",
    "vy5 = sy.diff(y5, t)\n",
    "Po5.set_vel(N, vx5*N.x+vy5*N.y)"
   ]
  },
  {
   "cell_type": "code",
   "execution_count": 14,
   "metadata": {},
   "outputs": [],
   "source": [
    "L = me.Lagrangian(N, Pa3, Pa4, Pa5)"
   ]
  },
  {
   "cell_type": "code",
   "execution_count": 19,
   "metadata": {},
   "outputs": [],
   "source": [
    "qs = sy.Matrix([x3,y3,x4,y4,x5,y5])\n",
    "\n",
    "G = sy.Symbol('G')\n",
    "r34_sq = (x3-x4)**2 + (y3-y4)**2\n",
    "r45_sq = (x4-x5)**2 + (y4-y5)**2\n",
    "r53_sq = (x5-x3)**2 + (y5-y3)**2\n",
    "angle34 = sy.atan( (y3-y4)/(x3-x4) )\n",
    "angle45 = sy.atan( (y4-y5)/(x4-x5) )\n",
    "angle53 = sy.atan( (y5-y3)/(x5-x3) )\n",
    "forcelist = [(Po3, G*m3*m4/r34_sq*(-sy.cos(angle34)*N.x -sy.sin(angle34)*N.y) + G*m5*m3/r53_sq*(sy.cos(angle53)*N.x +sy.sin(angle53)*N.y) ),\\\n",
    "            (Po4, G*m4*m5/r45_sq*(-sy.cos(angle45)*N.x -sy.sin(angle45)*N.y) + G*m3*m4/r34_sq*(sy.cos(angle34)*N.x +sy.sin(angle34)*N.y) ),\\\n",
    "            (Po5, G*m5*m3/r53_sq*(-sy.cos(angle53)*N.x -sy.sin(angle53)*N.y) + G*m4*m5/r45_sq*(sy.cos(angle45)*N.x +sy.sin(angle45)*N.y) )]"
   ]
  },
  {
   "cell_type": "code",
   "execution_count": 22,
   "metadata": {},
   "outputs": [],
   "source": [
    "LM = me.LagrangesMethod(L, qs=qs, forcelist=forcelist, frame=N)"
   ]
  },
  {
   "cell_type": "code",
   "execution_count": 25,
   "metadata": {},
   "outputs": [
    {
     "data": {
      "text/latex": [
       "$\\displaystyle \\left[\\begin{matrix}\\frac{G m_{3} m_{4}}{\\sqrt{1 + \\frac{\\left(\\operatorname{y_{3}}{\\left(t \\right)} - \\operatorname{y_{4}}{\\left(t \\right)}\\right)^{2}}{\\left(\\operatorname{x_{3}}{\\left(t \\right)} - \\operatorname{x_{4}}{\\left(t \\right)}\\right)^{2}}} \\left(\\left(\\operatorname{x_{3}}{\\left(t \\right)} - \\operatorname{x_{4}}{\\left(t \\right)}\\right)^{2} + \\left(\\operatorname{y_{3}}{\\left(t \\right)} - \\operatorname{y_{4}}{\\left(t \\right)}\\right)^{2}\\right)} - \\frac{G m_{3} m_{5}}{\\sqrt{1 + \\frac{\\left(- \\operatorname{y_{3}}{\\left(t \\right)} + \\operatorname{y_{5}}{\\left(t \\right)}\\right)^{2}}{\\left(- \\operatorname{x_{3}}{\\left(t \\right)} + \\operatorname{x_{5}}{\\left(t \\right)}\\right)^{2}}} \\left(\\left(- \\operatorname{x_{3}}{\\left(t \\right)} + \\operatorname{x_{5}}{\\left(t \\right)}\\right)^{2} + \\left(- \\operatorname{y_{3}}{\\left(t \\right)} + \\operatorname{y_{5}}{\\left(t \\right)}\\right)^{2}\\right)} + m_{3} \\frac{d^{2}}{d t^{2}} \\operatorname{x_{3}}{\\left(t \\right)}\\\\\\frac{G m_{3} m_{4} \\left(\\operatorname{y_{3}}{\\left(t \\right)} - \\operatorname{y_{4}}{\\left(t \\right)}\\right)}{\\sqrt{1 + \\frac{\\left(\\operatorname{y_{3}}{\\left(t \\right)} - \\operatorname{y_{4}}{\\left(t \\right)}\\right)^{2}}{\\left(\\operatorname{x_{3}}{\\left(t \\right)} - \\operatorname{x_{4}}{\\left(t \\right)}\\right)^{2}}} \\left(\\left(\\operatorname{x_{3}}{\\left(t \\right)} - \\operatorname{x_{4}}{\\left(t \\right)}\\right)^{2} + \\left(\\operatorname{y_{3}}{\\left(t \\right)} - \\operatorname{y_{4}}{\\left(t \\right)}\\right)^{2}\\right) \\left(\\operatorname{x_{3}}{\\left(t \\right)} - \\operatorname{x_{4}}{\\left(t \\right)}\\right)} - \\frac{G m_{3} m_{5} \\left(- \\operatorname{y_{3}}{\\left(t \\right)} + \\operatorname{y_{5}}{\\left(t \\right)}\\right)}{\\sqrt{1 + \\frac{\\left(- \\operatorname{y_{3}}{\\left(t \\right)} + \\operatorname{y_{5}}{\\left(t \\right)}\\right)^{2}}{\\left(- \\operatorname{x_{3}}{\\left(t \\right)} + \\operatorname{x_{5}}{\\left(t \\right)}\\right)^{2}}} \\left(\\left(- \\operatorname{x_{3}}{\\left(t \\right)} + \\operatorname{x_{5}}{\\left(t \\right)}\\right)^{2} + \\left(- \\operatorname{y_{3}}{\\left(t \\right)} + \\operatorname{y_{5}}{\\left(t \\right)}\\right)^{2}\\right) \\left(- \\operatorname{x_{3}}{\\left(t \\right)} + \\operatorname{x_{5}}{\\left(t \\right)}\\right)} + m_{3} \\frac{d^{2}}{d t^{2}} \\operatorname{y_{3}}{\\left(t \\right)}\\\\- \\frac{G m_{3} m_{4}}{\\sqrt{1 + \\frac{\\left(\\operatorname{y_{3}}{\\left(t \\right)} - \\operatorname{y_{4}}{\\left(t \\right)}\\right)^{2}}{\\left(\\operatorname{x_{3}}{\\left(t \\right)} - \\operatorname{x_{4}}{\\left(t \\right)}\\right)^{2}}} \\left(\\left(\\operatorname{x_{3}}{\\left(t \\right)} - \\operatorname{x_{4}}{\\left(t \\right)}\\right)^{2} + \\left(\\operatorname{y_{3}}{\\left(t \\right)} - \\operatorname{y_{4}}{\\left(t \\right)}\\right)^{2}\\right)} + \\frac{G m_{4} m_{5}}{\\sqrt{1 + \\frac{\\left(\\operatorname{y_{4}}{\\left(t \\right)} - \\operatorname{y_{5}}{\\left(t \\right)}\\right)^{2}}{\\left(\\operatorname{x_{4}}{\\left(t \\right)} - \\operatorname{x_{5}}{\\left(t \\right)}\\right)^{2}}} \\left(\\left(\\operatorname{x_{4}}{\\left(t \\right)} - \\operatorname{x_{5}}{\\left(t \\right)}\\right)^{2} + \\left(\\operatorname{y_{4}}{\\left(t \\right)} - \\operatorname{y_{5}}{\\left(t \\right)}\\right)^{2}\\right)} + m_{4} \\frac{d^{2}}{d t^{2}} \\operatorname{x_{4}}{\\left(t \\right)}\\\\- \\frac{G m_{3} m_{4} \\left(\\operatorname{y_{3}}{\\left(t \\right)} - \\operatorname{y_{4}}{\\left(t \\right)}\\right)}{\\sqrt{1 + \\frac{\\left(\\operatorname{y_{3}}{\\left(t \\right)} - \\operatorname{y_{4}}{\\left(t \\right)}\\right)^{2}}{\\left(\\operatorname{x_{3}}{\\left(t \\right)} - \\operatorname{x_{4}}{\\left(t \\right)}\\right)^{2}}} \\left(\\left(\\operatorname{x_{3}}{\\left(t \\right)} - \\operatorname{x_{4}}{\\left(t \\right)}\\right)^{2} + \\left(\\operatorname{y_{3}}{\\left(t \\right)} - \\operatorname{y_{4}}{\\left(t \\right)}\\right)^{2}\\right) \\left(\\operatorname{x_{3}}{\\left(t \\right)} - \\operatorname{x_{4}}{\\left(t \\right)}\\right)} + \\frac{G m_{4} m_{5} \\left(\\operatorname{y_{4}}{\\left(t \\right)} - \\operatorname{y_{5}}{\\left(t \\right)}\\right)}{\\sqrt{1 + \\frac{\\left(\\operatorname{y_{4}}{\\left(t \\right)} - \\operatorname{y_{5}}{\\left(t \\right)}\\right)^{2}}{\\left(\\operatorname{x_{4}}{\\left(t \\right)} - \\operatorname{x_{5}}{\\left(t \\right)}\\right)^{2}}} \\left(\\left(\\operatorname{x_{4}}{\\left(t \\right)} - \\operatorname{x_{5}}{\\left(t \\right)}\\right)^{2} + \\left(\\operatorname{y_{4}}{\\left(t \\right)} - \\operatorname{y_{5}}{\\left(t \\right)}\\right)^{2}\\right) \\left(\\operatorname{x_{4}}{\\left(t \\right)} - \\operatorname{x_{5}}{\\left(t \\right)}\\right)} + m_{4} \\frac{d^{2}}{d t^{2}} \\operatorname{y_{4}}{\\left(t \\right)}\\\\\\frac{G m_{3} m_{5}}{\\sqrt{1 + \\frac{\\left(- \\operatorname{y_{3}}{\\left(t \\right)} + \\operatorname{y_{5}}{\\left(t \\right)}\\right)^{2}}{\\left(- \\operatorname{x_{3}}{\\left(t \\right)} + \\operatorname{x_{5}}{\\left(t \\right)}\\right)^{2}}} \\left(\\left(- \\operatorname{x_{3}}{\\left(t \\right)} + \\operatorname{x_{5}}{\\left(t \\right)}\\right)^{2} + \\left(- \\operatorname{y_{3}}{\\left(t \\right)} + \\operatorname{y_{5}}{\\left(t \\right)}\\right)^{2}\\right)} - \\frac{G m_{4} m_{5}}{\\sqrt{1 + \\frac{\\left(\\operatorname{y_{4}}{\\left(t \\right)} - \\operatorname{y_{5}}{\\left(t \\right)}\\right)^{2}}{\\left(\\operatorname{x_{4}}{\\left(t \\right)} - \\operatorname{x_{5}}{\\left(t \\right)}\\right)^{2}}} \\left(\\left(\\operatorname{x_{4}}{\\left(t \\right)} - \\operatorname{x_{5}}{\\left(t \\right)}\\right)^{2} + \\left(\\operatorname{y_{4}}{\\left(t \\right)} - \\operatorname{y_{5}}{\\left(t \\right)}\\right)^{2}\\right)} + m_{5} \\frac{d^{2}}{d t^{2}} \\operatorname{x_{5}}{\\left(t \\right)}\\\\\\frac{G m_{3} m_{5} \\left(- \\operatorname{y_{3}}{\\left(t \\right)} + \\operatorname{y_{5}}{\\left(t \\right)}\\right)}{\\sqrt{1 + \\frac{\\left(- \\operatorname{y_{3}}{\\left(t \\right)} + \\operatorname{y_{5}}{\\left(t \\right)}\\right)^{2}}{\\left(- \\operatorname{x_{3}}{\\left(t \\right)} + \\operatorname{x_{5}}{\\left(t \\right)}\\right)^{2}}} \\left(\\left(- \\operatorname{x_{3}}{\\left(t \\right)} + \\operatorname{x_{5}}{\\left(t \\right)}\\right)^{2} + \\left(- \\operatorname{y_{3}}{\\left(t \\right)} + \\operatorname{y_{5}}{\\left(t \\right)}\\right)^{2}\\right) \\left(- \\operatorname{x_{3}}{\\left(t \\right)} + \\operatorname{x_{5}}{\\left(t \\right)}\\right)} - \\frac{G m_{4} m_{5} \\left(\\operatorname{y_{4}}{\\left(t \\right)} - \\operatorname{y_{5}}{\\left(t \\right)}\\right)}{\\sqrt{1 + \\frac{\\left(\\operatorname{y_{4}}{\\left(t \\right)} - \\operatorname{y_{5}}{\\left(t \\right)}\\right)^{2}}{\\left(\\operatorname{x_{4}}{\\left(t \\right)} - \\operatorname{x_{5}}{\\left(t \\right)}\\right)^{2}}} \\left(\\left(\\operatorname{x_{4}}{\\left(t \\right)} - \\operatorname{x_{5}}{\\left(t \\right)}\\right)^{2} + \\left(\\operatorname{y_{4}}{\\left(t \\right)} - \\operatorname{y_{5}}{\\left(t \\right)}\\right)^{2}\\right) \\left(\\operatorname{x_{4}}{\\left(t \\right)} - \\operatorname{x_{5}}{\\left(t \\right)}\\right)} + m_{5} \\frac{d^{2}}{d t^{2}} \\operatorname{y_{5}}{\\left(t \\right)}\\end{matrix}\\right]$"
      ],
      "text/plain": [
       "Matrix([\n",
       "[                                                                  G*m3*m4/(sqrt(1 + (y3(t) - y4(t))**2/(x3(t) - x4(t))**2)*((x3(t) - x4(t))**2 + (y3(t) - y4(t))**2)) - G*m3*m5/(sqrt(1 + (-y3(t) + y5(t))**2/(-x3(t) + x5(t))**2)*((-x3(t) + x5(t))**2 + (-y3(t) + y5(t))**2)) + m3*Derivative(x3(t), (t, 2))],\n",
       "[G*m3*m4*(y3(t) - y4(t))/(sqrt(1 + (y3(t) - y4(t))**2/(x3(t) - x4(t))**2)*((x3(t) - x4(t))**2 + (y3(t) - y4(t))**2)*(x3(t) - x4(t))) - G*m3*m5*(-y3(t) + y5(t))/(sqrt(1 + (-y3(t) + y5(t))**2/(-x3(t) + x5(t))**2)*((-x3(t) + x5(t))**2 + (-y3(t) + y5(t))**2)*(-x3(t) + x5(t))) + m3*Derivative(y3(t), (t, 2))],\n",
       "[                                                                     -G*m3*m4/(sqrt(1 + (y3(t) - y4(t))**2/(x3(t) - x4(t))**2)*((x3(t) - x4(t))**2 + (y3(t) - y4(t))**2)) + G*m4*m5/(sqrt(1 + (y4(t) - y5(t))**2/(x4(t) - x5(t))**2)*((x4(t) - x5(t))**2 + (y4(t) - y5(t))**2)) + m4*Derivative(x4(t), (t, 2))],\n",
       "[     -G*m3*m4*(y3(t) - y4(t))/(sqrt(1 + (y3(t) - y4(t))**2/(x3(t) - x4(t))**2)*((x3(t) - x4(t))**2 + (y3(t) - y4(t))**2)*(x3(t) - x4(t))) + G*m4*m5*(y4(t) - y5(t))/(sqrt(1 + (y4(t) - y5(t))**2/(x4(t) - x5(t))**2)*((x4(t) - x5(t))**2 + (y4(t) - y5(t))**2)*(x4(t) - x5(t))) + m4*Derivative(y4(t), (t, 2))],\n",
       "[                                                                  G*m3*m5/(sqrt(1 + (-y3(t) + y5(t))**2/(-x3(t) + x5(t))**2)*((-x3(t) + x5(t))**2 + (-y3(t) + y5(t))**2)) - G*m4*m5/(sqrt(1 + (y4(t) - y5(t))**2/(x4(t) - x5(t))**2)*((x4(t) - x5(t))**2 + (y4(t) - y5(t))**2)) + m5*Derivative(x5(t), (t, 2))],\n",
       "[G*m3*m5*(-y3(t) + y5(t))/(sqrt(1 + (-y3(t) + y5(t))**2/(-x3(t) + x5(t))**2)*((-x3(t) + x5(t))**2 + (-y3(t) + y5(t))**2)*(-x3(t) + x5(t))) - G*m4*m5*(y4(t) - y5(t))/(sqrt(1 + (y4(t) - y5(t))**2/(x4(t) - x5(t))**2)*((x4(t) - x5(t))**2 + (y4(t) - y5(t))**2)*(x4(t) - x5(t))) + m5*Derivative(y5(t), (t, 2))]])"
      ]
     },
     "execution_count": 25,
     "metadata": {},
     "output_type": "execute_result"
    }
   ],
   "source": [
    "eom = LM.form_lagranges_equations()\n",
    "eom"
   ]
  },
  {
   "cell_type": "code",
   "execution_count": 26,
   "metadata": {},
   "outputs": [
    {
     "data": {
      "text/latex": [
       "$\\displaystyle \\left[\\begin{matrix}\\frac{d}{d t} \\operatorname{x_{3}}{\\left(t \\right)}\\\\\\frac{d}{d t} \\operatorname{y_{3}}{\\left(t \\right)}\\\\\\frac{d}{d t} \\operatorname{x_{4}}{\\left(t \\right)}\\\\\\frac{d}{d t} \\operatorname{y_{4}}{\\left(t \\right)}\\\\\\frac{d}{d t} \\operatorname{x_{5}}{\\left(t \\right)}\\\\\\frac{d}{d t} \\operatorname{y_{5}}{\\left(t \\right)}\\\\\\frac{- \\frac{G m_{3} m_{4}}{\\sqrt{1 + \\frac{\\left(\\operatorname{y_{3}}{\\left(t \\right)} - \\operatorname{y_{4}}{\\left(t \\right)}\\right)^{2}}{\\left(\\operatorname{x_{3}}{\\left(t \\right)} - \\operatorname{x_{4}}{\\left(t \\right)}\\right)^{2}}} \\left(\\left(\\operatorname{x_{3}}{\\left(t \\right)} - \\operatorname{x_{4}}{\\left(t \\right)}\\right)^{2} + \\left(\\operatorname{y_{3}}{\\left(t \\right)} - \\operatorname{y_{4}}{\\left(t \\right)}\\right)^{2}\\right)} + \\frac{G m_{3} m_{5}}{\\sqrt{1 + \\frac{\\left(- \\operatorname{y_{3}}{\\left(t \\right)} + \\operatorname{y_{5}}{\\left(t \\right)}\\right)^{2}}{\\left(- \\operatorname{x_{3}}{\\left(t \\right)} + \\operatorname{x_{5}}{\\left(t \\right)}\\right)^{2}}} \\left(\\left(- \\operatorname{x_{3}}{\\left(t \\right)} + \\operatorname{x_{5}}{\\left(t \\right)}\\right)^{2} + \\left(- \\operatorname{y_{3}}{\\left(t \\right)} + \\operatorname{y_{5}}{\\left(t \\right)}\\right)^{2}\\right)}}{m_{3}}\\\\\\frac{- \\frac{G m_{3} m_{4} \\left(\\operatorname{y_{3}}{\\left(t \\right)} - \\operatorname{y_{4}}{\\left(t \\right)}\\right)}{\\sqrt{1 + \\frac{\\left(\\operatorname{y_{3}}{\\left(t \\right)} - \\operatorname{y_{4}}{\\left(t \\right)}\\right)^{2}}{\\left(\\operatorname{x_{3}}{\\left(t \\right)} - \\operatorname{x_{4}}{\\left(t \\right)}\\right)^{2}}} \\left(\\left(\\operatorname{x_{3}}{\\left(t \\right)} - \\operatorname{x_{4}}{\\left(t \\right)}\\right)^{2} + \\left(\\operatorname{y_{3}}{\\left(t \\right)} - \\operatorname{y_{4}}{\\left(t \\right)}\\right)^{2}\\right) \\left(\\operatorname{x_{3}}{\\left(t \\right)} - \\operatorname{x_{4}}{\\left(t \\right)}\\right)} + \\frac{G m_{3} m_{5} \\left(- \\operatorname{y_{3}}{\\left(t \\right)} + \\operatorname{y_{5}}{\\left(t \\right)}\\right)}{\\sqrt{1 + \\frac{\\left(- \\operatorname{y_{3}}{\\left(t \\right)} + \\operatorname{y_{5}}{\\left(t \\right)}\\right)^{2}}{\\left(- \\operatorname{x_{3}}{\\left(t \\right)} + \\operatorname{x_{5}}{\\left(t \\right)}\\right)^{2}}} \\left(\\left(- \\operatorname{x_{3}}{\\left(t \\right)} + \\operatorname{x_{5}}{\\left(t \\right)}\\right)^{2} + \\left(- \\operatorname{y_{3}}{\\left(t \\right)} + \\operatorname{y_{5}}{\\left(t \\right)}\\right)^{2}\\right) \\left(- \\operatorname{x_{3}}{\\left(t \\right)} + \\operatorname{x_{5}}{\\left(t \\right)}\\right)}}{m_{3}}\\\\\\frac{\\frac{G m_{3} m_{4}}{\\sqrt{1 + \\frac{\\left(\\operatorname{y_{3}}{\\left(t \\right)} - \\operatorname{y_{4}}{\\left(t \\right)}\\right)^{2}}{\\left(\\operatorname{x_{3}}{\\left(t \\right)} - \\operatorname{x_{4}}{\\left(t \\right)}\\right)^{2}}} \\left(\\left(\\operatorname{x_{3}}{\\left(t \\right)} - \\operatorname{x_{4}}{\\left(t \\right)}\\right)^{2} + \\left(\\operatorname{y_{3}}{\\left(t \\right)} - \\operatorname{y_{4}}{\\left(t \\right)}\\right)^{2}\\right)} - \\frac{G m_{4} m_{5}}{\\sqrt{1 + \\frac{\\left(\\operatorname{y_{4}}{\\left(t \\right)} - \\operatorname{y_{5}}{\\left(t \\right)}\\right)^{2}}{\\left(\\operatorname{x_{4}}{\\left(t \\right)} - \\operatorname{x_{5}}{\\left(t \\right)}\\right)^{2}}} \\left(\\left(\\operatorname{x_{4}}{\\left(t \\right)} - \\operatorname{x_{5}}{\\left(t \\right)}\\right)^{2} + \\left(\\operatorname{y_{4}}{\\left(t \\right)} - \\operatorname{y_{5}}{\\left(t \\right)}\\right)^{2}\\right)}}{m_{4}}\\\\\\frac{\\frac{G m_{3} m_{4} \\left(\\operatorname{y_{3}}{\\left(t \\right)} - \\operatorname{y_{4}}{\\left(t \\right)}\\right)}{\\sqrt{1 + \\frac{\\left(\\operatorname{y_{3}}{\\left(t \\right)} - \\operatorname{y_{4}}{\\left(t \\right)}\\right)^{2}}{\\left(\\operatorname{x_{3}}{\\left(t \\right)} - \\operatorname{x_{4}}{\\left(t \\right)}\\right)^{2}}} \\left(\\left(\\operatorname{x_{3}}{\\left(t \\right)} - \\operatorname{x_{4}}{\\left(t \\right)}\\right)^{2} + \\left(\\operatorname{y_{3}}{\\left(t \\right)} - \\operatorname{y_{4}}{\\left(t \\right)}\\right)^{2}\\right) \\left(\\operatorname{x_{3}}{\\left(t \\right)} - \\operatorname{x_{4}}{\\left(t \\right)}\\right)} - \\frac{G m_{4} m_{5} \\left(\\operatorname{y_{4}}{\\left(t \\right)} - \\operatorname{y_{5}}{\\left(t \\right)}\\right)}{\\sqrt{1 + \\frac{\\left(\\operatorname{y_{4}}{\\left(t \\right)} - \\operatorname{y_{5}}{\\left(t \\right)}\\right)^{2}}{\\left(\\operatorname{x_{4}}{\\left(t \\right)} - \\operatorname{x_{5}}{\\left(t \\right)}\\right)^{2}}} \\left(\\left(\\operatorname{x_{4}}{\\left(t \\right)} - \\operatorname{x_{5}}{\\left(t \\right)}\\right)^{2} + \\left(\\operatorname{y_{4}}{\\left(t \\right)} - \\operatorname{y_{5}}{\\left(t \\right)}\\right)^{2}\\right) \\left(\\operatorname{x_{4}}{\\left(t \\right)} - \\operatorname{x_{5}}{\\left(t \\right)}\\right)}}{m_{4}}\\\\\\frac{- \\frac{G m_{3} m_{5}}{\\sqrt{1 + \\frac{\\left(- \\operatorname{y_{3}}{\\left(t \\right)} + \\operatorname{y_{5}}{\\left(t \\right)}\\right)^{2}}{\\left(- \\operatorname{x_{3}}{\\left(t \\right)} + \\operatorname{x_{5}}{\\left(t \\right)}\\right)^{2}}} \\left(\\left(- \\operatorname{x_{3}}{\\left(t \\right)} + \\operatorname{x_{5}}{\\left(t \\right)}\\right)^{2} + \\left(- \\operatorname{y_{3}}{\\left(t \\right)} + \\operatorname{y_{5}}{\\left(t \\right)}\\right)^{2}\\right)} + \\frac{G m_{4} m_{5}}{\\sqrt{1 + \\frac{\\left(\\operatorname{y_{4}}{\\left(t \\right)} - \\operatorname{y_{5}}{\\left(t \\right)}\\right)^{2}}{\\left(\\operatorname{x_{4}}{\\left(t \\right)} - \\operatorname{x_{5}}{\\left(t \\right)}\\right)^{2}}} \\left(\\left(\\operatorname{x_{4}}{\\left(t \\right)} - \\operatorname{x_{5}}{\\left(t \\right)}\\right)^{2} + \\left(\\operatorname{y_{4}}{\\left(t \\right)} - \\operatorname{y_{5}}{\\left(t \\right)}\\right)^{2}\\right)}}{m_{5}}\\\\\\frac{- \\frac{G m_{3} m_{5} \\left(- \\operatorname{y_{3}}{\\left(t \\right)} + \\operatorname{y_{5}}{\\left(t \\right)}\\right)}{\\sqrt{1 + \\frac{\\left(- \\operatorname{y_{3}}{\\left(t \\right)} + \\operatorname{y_{5}}{\\left(t \\right)}\\right)^{2}}{\\left(- \\operatorname{x_{3}}{\\left(t \\right)} + \\operatorname{x_{5}}{\\left(t \\right)}\\right)^{2}}} \\left(\\left(- \\operatorname{x_{3}}{\\left(t \\right)} + \\operatorname{x_{5}}{\\left(t \\right)}\\right)^{2} + \\left(- \\operatorname{y_{3}}{\\left(t \\right)} + \\operatorname{y_{5}}{\\left(t \\right)}\\right)^{2}\\right) \\left(- \\operatorname{x_{3}}{\\left(t \\right)} + \\operatorname{x_{5}}{\\left(t \\right)}\\right)} + \\frac{G m_{4} m_{5} \\left(\\operatorname{y_{4}}{\\left(t \\right)} - \\operatorname{y_{5}}{\\left(t \\right)}\\right)}{\\sqrt{1 + \\frac{\\left(\\operatorname{y_{4}}{\\left(t \\right)} - \\operatorname{y_{5}}{\\left(t \\right)}\\right)^{2}}{\\left(\\operatorname{x_{4}}{\\left(t \\right)} - \\operatorname{x_{5}}{\\left(t \\right)}\\right)^{2}}} \\left(\\left(\\operatorname{x_{4}}{\\left(t \\right)} - \\operatorname{x_{5}}{\\left(t \\right)}\\right)^{2} + \\left(\\operatorname{y_{4}}{\\left(t \\right)} - \\operatorname{y_{5}}{\\left(t \\right)}\\right)^{2}\\right) \\left(\\operatorname{x_{4}}{\\left(t \\right)} - \\operatorname{x_{5}}{\\left(t \\right)}\\right)}}{m_{5}}\\end{matrix}\\right]$"
      ],
      "text/plain": [
       "Matrix([\n",
       "[                                                                                                                                                                                                                                                                 Derivative(x3(t), t)],\n",
       "[                                                                                                                                                                                                                                                                 Derivative(y3(t), t)],\n",
       "[                                                                                                                                                                                                                                                                 Derivative(x4(t), t)],\n",
       "[                                                                                                                                                                                                                                                                 Derivative(y4(t), t)],\n",
       "[                                                                                                                                                                                                                                                                 Derivative(x5(t), t)],\n",
       "[                                                                                                                                                                                                                                                                 Derivative(y5(t), t)],\n",
       "[                                                                  (-G*m3*m4/(sqrt(1 + (y3(t) - y4(t))**2/(x3(t) - x4(t))**2)*((x3(t) - x4(t))**2 + (y3(t) - y4(t))**2)) + G*m3*m5/(sqrt(1 + (-y3(t) + y5(t))**2/(-x3(t) + x5(t))**2)*((-x3(t) + x5(t))**2 + (-y3(t) + y5(t))**2)))/m3],\n",
       "[(-G*m3*m4*(y3(t) - y4(t))/(sqrt(1 + (y3(t) - y4(t))**2/(x3(t) - x4(t))**2)*((x3(t) - x4(t))**2 + (y3(t) - y4(t))**2)*(x3(t) - x4(t))) + G*m3*m5*(-y3(t) + y5(t))/(sqrt(1 + (-y3(t) + y5(t))**2/(-x3(t) + x5(t))**2)*((-x3(t) + x5(t))**2 + (-y3(t) + y5(t))**2)*(-x3(t) + x5(t))))/m3],\n",
       "[                                                                       (G*m3*m4/(sqrt(1 + (y3(t) - y4(t))**2/(x3(t) - x4(t))**2)*((x3(t) - x4(t))**2 + (y3(t) - y4(t))**2)) - G*m4*m5/(sqrt(1 + (y4(t) - y5(t))**2/(x4(t) - x5(t))**2)*((x4(t) - x5(t))**2 + (y4(t) - y5(t))**2)))/m4],\n",
       "[       (G*m3*m4*(y3(t) - y4(t))/(sqrt(1 + (y3(t) - y4(t))**2/(x3(t) - x4(t))**2)*((x3(t) - x4(t))**2 + (y3(t) - y4(t))**2)*(x3(t) - x4(t))) - G*m4*m5*(y4(t) - y5(t))/(sqrt(1 + (y4(t) - y5(t))**2/(x4(t) - x5(t))**2)*((x4(t) - x5(t))**2 + (y4(t) - y5(t))**2)*(x4(t) - x5(t))))/m4],\n",
       "[                                                                  (-G*m3*m5/(sqrt(1 + (-y3(t) + y5(t))**2/(-x3(t) + x5(t))**2)*((-x3(t) + x5(t))**2 + (-y3(t) + y5(t))**2)) + G*m4*m5/(sqrt(1 + (y4(t) - y5(t))**2/(x4(t) - x5(t))**2)*((x4(t) - x5(t))**2 + (y4(t) - y5(t))**2)))/m5],\n",
       "[(-G*m3*m5*(-y3(t) + y5(t))/(sqrt(1 + (-y3(t) + y5(t))**2/(-x3(t) + x5(t))**2)*((-x3(t) + x5(t))**2 + (-y3(t) + y5(t))**2)*(-x3(t) + x5(t))) + G*m4*m5*(y4(t) - y5(t))/(sqrt(1 + (y4(t) - y5(t))**2/(x4(t) - x5(t))**2)*((x4(t) - x5(t))**2 + (y4(t) - y5(t))**2)*(x4(t) - x5(t))))/m5]])"
      ]
     },
     "execution_count": 26,
     "metadata": {},
     "output_type": "execute_result"
    }
   ],
   "source": [
    "f = LM.rhs()\n",
    "f"
   ]
  },
  {
   "cell_type": "code",
   "execution_count": 27,
   "metadata": {},
   "outputs": [
    {
     "data": {
      "text/plain": [
       "(12, 1)"
      ]
     },
     "execution_count": 27,
     "metadata": {},
     "output_type": "execute_result"
    }
   ],
   "source": [
    "f.shape"
   ]
  },
  {
   "cell_type": "code",
   "execution_count": 32,
   "metadata": {},
   "outputs": [
    {
     "data": {
      "text/latex": [
       "$\\displaystyle \\frac{\\frac{G m_{3} m_{4}}{\\sqrt{1 + \\frac{\\left(\\operatorname{y_{3}}{\\left(t \\right)} - \\operatorname{y_{4}}{\\left(t \\right)}\\right)^{2}}{\\left(\\operatorname{x_{3}}{\\left(t \\right)} - \\operatorname{x_{4}}{\\left(t \\right)}\\right)^{2}}} \\left(\\left(\\operatorname{x_{3}}{\\left(t \\right)} - \\operatorname{x_{4}}{\\left(t \\right)}\\right)^{2} + \\left(\\operatorname{y_{3}}{\\left(t \\right)} - \\operatorname{y_{4}}{\\left(t \\right)}\\right)^{2}\\right)} - \\frac{G m_{4} m_{5}}{\\sqrt{1 + \\frac{\\left(\\operatorname{y_{4}}{\\left(t \\right)} - \\operatorname{y_{5}}{\\left(t \\right)}\\right)^{2}}{\\left(\\operatorname{x_{4}}{\\left(t \\right)} - \\operatorname{x_{5}}{\\left(t \\right)}\\right)^{2}}} \\left(\\left(\\operatorname{x_{4}}{\\left(t \\right)} - \\operatorname{x_{5}}{\\left(t \\right)}\\right)^{2} + \\left(\\operatorname{y_{4}}{\\left(t \\right)} - \\operatorname{y_{5}}{\\left(t \\right)}\\right)^{2}\\right)}}{m_{4}}$"
      ],
      "text/plain": [
       "(G*m3*m4/(sqrt(1 + (y3(t) - y4(t))**2/(x3(t) - x4(t))**2)*((x3(t) - x4(t))**2 + (y3(t) - y4(t))**2)) - G*m4*m5/(sqrt(1 + (y4(t) - y5(t))**2/(x4(t) - x5(t))**2)*((x4(t) - x5(t))**2 + (y4(t) - y5(t))**2)))/m4"
      ]
     },
     "execution_count": 32,
     "metadata": {},
     "output_type": "execute_result"
    }
   ],
   "source": [
    "f[8]"
   ]
  },
  {
   "cell_type": "code",
   "execution_count": 2,
   "metadata": {},
   "outputs": [],
   "source": [
    "from scipy.integrate import odeint\n",
    "import numpy as np\n",
    "import matplotlib.pyplot as plt"
   ]
  },
  {
   "cell_type": "code",
   "execution_count": 22,
   "metadata": {},
   "outputs": [
    {
     "name": "stdout",
     "output_type": "stream",
     "text": [
      "t x3 y3 x4 y4 x5 y5\n",
      "0.0 1.00000 3.00000 -2.00000 -1.00000 1.00000 -1.00000\n",
      "10.0 0.77853 0.14154 -2.02508 0.09712 1.15295 -0.16263\n",
      "20.0 3.00375 0.51228 -1.38976 -0.47071 -0.69044 0.06920\n",
      "30.0 0.85695 2.28816 -0.88144 -0.86664 0.19098 -0.67958\n",
      "40.0 -0.59980 1.88660 0.15233 -2.32548 0.23801 0.72843\n",
      "50.0 -2.50711 1.97178 0.71240 -1.31815 0.93434 -0.12855\n",
      "60.0 -1.26343 0.24593 0.24101 -0.88699 0.56525 0.56204\n"
     ]
    }
   ],
   "source": [
    "G = 1 #6.67e-11\n",
    "M3 = 3\n",
    "M4 = 4\n",
    "M5 = 5\n",
    "\n",
    "def func(state, t):\n",
    "    dXdt = np.zeros_like(state)\n",
    "    \n",
    "    dXdt[0] = state[6]\n",
    "    dXdt[1] = state[7]\n",
    "    dXdt[2] = state[8]\n",
    "    dXdt[3] = state[9]\n",
    "    dXdt[4] = state[10]\n",
    "    dXdt[5] = state[11]\n",
    "    \n",
    "    r34_sq = (state[0]-state[2])**2 + (state[1]-state[3])**2\n",
    "    r45_sq = (state[2]-state[4])**2 + (state[3]-state[5])**2\n",
    "    r53_sq = (state[4]-state[0])**2 + (state[5]-state[1])**2\n",
    "    \n",
    "    dXdt[6] = - ( G*M4*(state[0]-state[2]) ) / ( np.sqrt(r34_sq)*r34_sq ) + ( G*M5*(state[4]-state[0]) ) / ( np.sqrt(r53_sq)*r53_sq )\n",
    "    dXdt[7] = - ( G*M4*(state[1]-state[3]) ) / ( np.sqrt(r34_sq)*r34_sq ) + ( G*M5*(state[5]-state[1]) ) / ( np.sqrt(r53_sq)*r53_sq )\n",
    "    dXdt[8] = - ( G*M5*(state[2]-state[4]) ) / ( np.sqrt(r45_sq)*r45_sq ) + ( G*M3*(state[0]-state[2]) ) / ( np.sqrt(r34_sq)*r34_sq )\n",
    "    dXdt[9] = - ( G*M5*(state[3]-state[5]) ) / ( np.sqrt(r45_sq)*r45_sq ) + ( G*M3*(state[1]-state[3]) ) / ( np.sqrt(r34_sq)*r34_sq )\n",
    "    dXdt[10] = - ( G*M3*(state[4]-state[0]) ) / ( np.sqrt(r53_sq)*r53_sq ) + ( G*M4*(state[2]-state[4]) ) / ( np.sqrt(r45_sq)*r45_sq )\n",
    "    dXdt[11] = - ( G*M3*(state[5]-state[1]) ) / ( np.sqrt(r53_sq)*r53_sq ) + ( G*M4*(state[3]-state[5]) ) / ( np.sqrt(r45_sq)*r45_sq )\n",
    "    \n",
    "    return dXdt\n",
    "\n",
    "## 初期値\n",
    "x3 = 1\n",
    "y3 = 3\n",
    "x4 = -2\n",
    "y4 = -1\n",
    "x5 = 1\n",
    "y5 = -1\n",
    "vx3 = 0\n",
    "vy3 = 0\n",
    "vx4 = 0\n",
    "vy4 = 0\n",
    "vx5 = 0\n",
    "vy5 = 0\n",
    "\n",
    "state = [x3,y3, x4,y4, x5,y5, vx3,vy3, vx4,vy4, vx5,vy5]\n",
    "\n",
    "dt = 0.01\n",
    "t = np.arange(0,70, dt)\n",
    "\n",
    "sol = odeint(func, state, t)\n",
    "\n",
    "print(\"t x3 y3 x4 y4 x5 y5\")\n",
    "\n",
    "for i in range(7):\n",
    "    col = i*int(10/dt)\n",
    "    print(\"%.1f %.5f %.5f %.5f %.5f %.5f %.5f\" % (t[col],sol[col,0],sol[col,1],sol[col,2],sol[col,3],sol[col,4],sol[col,5]))"
   ]
  },
  {
   "cell_type": "markdown",
   "metadata": {},
   "source": [
    "論文とかの値は無次元化してるらしい。つまり、G=1\n",
    "\n",
    "10ごとのtに対する三体の座標（パソコンで見る天体の動き、p183より）\n",
    "この数値に合えば正しく計算してることになります。\n",
    "\n",
    "|  t   |     x3    |     y3  |       x4  |       y4   |      x5    |     y5|\n",
    "|--: |---|---|---|---|---|---|\n",
    "| 0.0 |   1.00000 |   3.00000 |  -2.00000 |  -1.00000 |   1.00000 |  -1.00000|\n",
    "|10.0 |   0.77848 |   0.14139 |  -2.02509 |   0.09722 |   1.15299 |  -0.16261|\n",
    "|20.0 |   3.00429 |   0.51193 |  -1.38863 |  -0.47048 |  -0.69167 |   0.06923|\n",
    "|30.0 |   0.85634 |   2.28709 |  -0.87798 |  -0.86596 |   0.18858 |  -0.67949|\n",
    "|40.0 |  -0.62200 |   1.85832 |   0.17354 |  -2.36841 |   0.23437 |   0.77974|\n",
    "|50.0 |  -2.70146 |  -3.79722 |   1.50594 |   0.96081 |   0.41513 |   1.50968|\n",
    "|60.0 |   0.74381 |   1.93995 |   0.26401 |  -0.73163 |  -0.65749 |  -0.57867|"
   ]
  },
  {
   "cell_type": "code",
   "execution_count": null,
   "metadata": {},
   "outputs": [],
   "source": []
  }
 ],
 "metadata": {
  "kernelspec": {
   "display_name": "Python 3",
   "language": "python",
   "name": "python3"
  },
  "language_info": {
   "codemirror_mode": {
    "name": "ipython",
    "version": 3
   },
   "file_extension": ".py",
   "mimetype": "text/x-python",
   "name": "python",
   "nbconvert_exporter": "python",
   "pygments_lexer": "ipython3",
   "version": "3.8.5"
  }
 },
 "nbformat": 4,
 "nbformat_minor": 4
}
